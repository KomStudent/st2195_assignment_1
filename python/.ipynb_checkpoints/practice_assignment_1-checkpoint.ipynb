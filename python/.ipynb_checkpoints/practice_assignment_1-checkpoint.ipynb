{
 "cells": [
  {
   "cell_type": "markdown",
   "id": "61a9045c",
   "metadata": {},
   "source": [
    "# Description of Solution\n",
    "Author: Karl Munroe\n",
    "Date: Novemeber 13, 2022\n",
    "\n",
    "# Assignment solution to print integers 1 to 10\n",
    "\n",
    "The solution will present the code in both R and Python to generate integers 1 to 10\n"
   ]
  },
  {
   "cell_type": "markdown",
   "id": "bdb2d446",
   "metadata": {},
   "source": [
    "**Python Code of Solution**"
   ]
  },
  {
   "cell_type": "code",
   "execution_count": 9,
   "id": "02bd4c2c",
   "metadata": {},
   "outputs": [
    {
     "name": "stdout",
     "output_type": "stream",
     "text": [
      "1 2 3 4 5 6 7 8 9 10 \n"
     ]
    }
   ],
   "source": [
    "#init variables\n",
    "strNumList = \"\"\n",
    "counter = 0\n",
    "\n",
    "#loop to generate the output\n",
    "for i in range(10):\n",
    "    counter = i + 1 # i will start at 0\n",
    "    strNumList = strNumList + str(counter) + \" \" # convert int to str and aapend\n",
    "print(strNumList) # print the list\n"
   ]
  },
  {
   "cell_type": "code",
   "execution_count": null,
   "id": "c755924e",
   "metadata": {},
   "outputs": [],
   "source": []
  }
 ],
 "metadata": {
  "kernelspec": {
   "display_name": "Python 3 (ipykernel)",
   "language": "python",
   "name": "python3"
  },
  "language_info": {
   "codemirror_mode": {
    "name": "ipython",
    "version": 3
   },
   "file_extension": ".py",
   "mimetype": "text/x-python",
   "name": "python",
   "nbconvert_exporter": "python",
   "pygments_lexer": "ipython3",
   "version": "3.9.13"
  }
 },
 "nbformat": 4,
 "nbformat_minor": 5
}
